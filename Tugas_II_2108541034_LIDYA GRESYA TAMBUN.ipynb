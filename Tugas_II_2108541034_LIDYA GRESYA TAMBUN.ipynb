{
 "cells": [
  {
   "cell_type": "markdown",
   "id": "a5c076e1",
   "metadata": {},
   "source": [
    "## 5.12 List Di Python"
   ]
  },
  {
   "cell_type": "code",
   "execution_count": 1,
   "id": "ad51361f",
   "metadata": {},
   "outputs": [
    {
     "name": "stdout",
     "output_type": "stream",
     "text": [
      "['merah', 'kuning', 'hijau', 'biru']\n"
     ]
    }
   ],
   "source": [
    "warna = ['merah','kuning','hijau','biru']\n",
    "print(warna)"
   ]
  },
  {
   "cell_type": "code",
   "execution_count": 2,
   "id": "7179dce9",
   "metadata": {},
   "outputs": [
    {
     "name": "stdout",
     "output_type": "stream",
     "text": [
      "merah\n"
     ]
    }
   ],
   "source": [
    "print(warna[0])"
   ]
  },
  {
   "cell_type": "code",
   "execution_count": 3,
   "id": "36b74df5",
   "metadata": {},
   "outputs": [
    {
     "name": "stdout",
     "output_type": "stream",
     "text": [
      "hijau\n"
     ]
    }
   ],
   "source": [
    "print(warna[2])"
   ]
  },
  {
   "cell_type": "code",
   "execution_count": 4,
   "id": "62eb2806",
   "metadata": {},
   "outputs": [
    {
     "name": "stdout",
     "output_type": "stream",
     "text": [
      "biru\n"
     ]
    }
   ],
   "source": [
    "print(warna[3])"
   ]
  },
  {
   "cell_type": "code",
   "execution_count": 5,
   "id": "cd5479ab",
   "metadata": {},
   "outputs": [
    {
     "name": "stdout",
     "output_type": "stream",
     "text": [
      "biru\n"
     ]
    }
   ],
   "source": [
    "print(warna[-1])"
   ]
  },
  {
   "cell_type": "code",
   "execution_count": 6,
   "id": "690085aa",
   "metadata": {},
   "outputs": [
    {
     "name": "stdout",
     "output_type": "stream",
     "text": [
      "hijau\n"
     ]
    }
   ],
   "source": [
    "print(warna[-2])"
   ]
  },
  {
   "cell_type": "code",
   "execution_count": 7,
   "id": "7d1da51e",
   "metadata": {},
   "outputs": [
    {
     "name": "stdout",
     "output_type": "stream",
     "text": [
      "['merah', 'ungu', 'hijau', 'biru']\n"
     ]
    }
   ],
   "source": [
    "warna[1] = 'ungu'\n",
    "print(warna)"
   ]
  },
  {
   "cell_type": "code",
   "execution_count": 8,
   "id": "c7a0cef2",
   "metadata": {},
   "outputs": [
    {
     "name": "stdout",
     "output_type": "stream",
     "text": [
      "['merah', 'ungu', 'jingga', 'pink']\n"
     ]
    }
   ],
   "source": [
    "warna[2] = 'jingga'\n",
    "warna[-1]= 'pink'\n",
    "print(warna)"
   ]
  },
  {
   "cell_type": "code",
   "execution_count": 9,
   "id": "3a22b61e",
   "metadata": {},
   "outputs": [
    {
     "name": "stdout",
     "output_type": "stream",
     "text": [
      "['merah', 'ungu', 'jingga']\n"
     ]
    }
   ],
   "source": [
    "print(warna[0:3])"
   ]
  },
  {
   "cell_type": "code",
   "execution_count": 10,
   "id": "c4a2b9d7",
   "metadata": {},
   "outputs": [
    {
     "name": "stdout",
     "output_type": "stream",
     "text": [
      "['ungu']\n"
     ]
    }
   ],
   "source": [
    "print(warna[1:2])"
   ]
  },
  {
   "cell_type": "code",
   "execution_count": 11,
   "id": "9b74c2c5",
   "metadata": {},
   "outputs": [
    {
     "name": "stdout",
     "output_type": "stream",
     "text": [
      "['merah', 'ungu', 'jingga', 'pink']\n"
     ]
    }
   ],
   "source": [
    "#tidak merubah list\n",
    "print(warna)"
   ]
  },
  {
   "cell_type": "markdown",
   "id": "8299cefb",
   "metadata": {},
   "source": [
    "## 5.13 Metoda List"
   ]
  },
  {
   "cell_type": "code",
   "execution_count": 13,
   "id": "a78975ae",
   "metadata": {},
   "outputs": [
    {
     "name": "stdout",
     "output_type": "stream",
     "text": [
      "['Lidya', 'Gresya', 'Lily', 'Tasya']\n"
     ]
    }
   ],
   "source": [
    "nama = ['Lidya','Gresya','Lily']\n",
    "nama.append('Tasya')\n",
    "print(nama)"
   ]
  },
  {
   "cell_type": "code",
   "execution_count": 14,
   "id": "e4c30b10",
   "metadata": {},
   "outputs": [
    {
     "name": "stdout",
     "output_type": "stream",
     "text": [
      "['Rani', 'Lidya', 'Gresya', 'Lily', 'Tasya']\n"
     ]
    }
   ],
   "source": [
    "nama.insert(0,'Rani')\n",
    "print(nama)"
   ]
  },
  {
   "cell_type": "code",
   "execution_count": 15,
   "id": "5b8b8e55",
   "metadata": {},
   "outputs": [
    {
     "name": "stdout",
     "output_type": "stream",
     "text": [
      "['Rani', 'Lidya', 'Lily', 'Tasya']\n"
     ]
    }
   ],
   "source": [
    "nama.remove('Gresya')\n",
    "print(nama)"
   ]
  },
  {
   "cell_type": "code",
   "execution_count": 16,
   "id": "f2db77fb",
   "metadata": {},
   "outputs": [
    {
     "name": "stdout",
     "output_type": "stream",
     "text": [
      "False\n"
     ]
    }
   ],
   "source": [
    "print('Gresya' in nama)"
   ]
  },
  {
   "cell_type": "code",
   "execution_count": 17,
   "id": "7c0fc815",
   "metadata": {},
   "outputs": [
    {
     "name": "stdout",
     "output_type": "stream",
     "text": [
      "True\n"
     ]
    }
   ],
   "source": [
    "print('Tasya' in nama)"
   ]
  },
  {
   "cell_type": "code",
   "execution_count": 18,
   "id": "28ccff8a",
   "metadata": {},
   "outputs": [
    {
     "name": "stdout",
     "output_type": "stream",
     "text": [
      "4\n"
     ]
    }
   ],
   "source": [
    "print(len(nama))"
   ]
  },
  {
   "cell_type": "markdown",
   "id": "6161f10d",
   "metadata": {},
   "source": [
    "## 5.14 For loop"
   ]
  },
  {
   "cell_type": "code",
   "execution_count": 19,
   "id": "3e098c2a",
   "metadata": {},
   "outputs": [
    {
     "name": "stdout",
     "output_type": "stream",
     "text": [
      "bulat\n",
      "cacah\n",
      "prima\n",
      "real\n"
     ]
    }
   ],
   "source": [
    "bilangan = ['bulat','cacah','prima','real']\n",
    "for jenis in bilangan:\n",
    "    print(jenis)"
   ]
  },
  {
   "cell_type": "code",
   "execution_count": 21,
   "id": "c747e76e",
   "metadata": {},
   "outputs": [
    {
     "name": "stdout",
     "output_type": "stream",
     "text": [
      "bulat\n",
      "cacah\n",
      "prima\n",
      "real\n"
     ]
    }
   ],
   "source": [
    "i = 0\n",
    "while i < len(bilangan):\n",
    "    print(bilangan[i])\n",
    "    i+=1"
   ]
  },
  {
   "cell_type": "markdown",
   "id": "99c61b6d",
   "metadata": {},
   "source": [
    "## 5.15 Fungsi range"
   ]
  },
  {
   "cell_type": "code",
   "execution_count": null,
   "id": "a4aabbfe",
   "metadata": {},
   "outputs": [],
   "source": [
    "angka = range(6)\n",
    "print(angka)"
   ]
  },
  {
   "cell_type": "code",
   "execution_count": null,
   "id": "a0ca91c8",
   "metadata": {},
   "outputs": [],
   "source": [
    "for isi in angka:\n",
    "    print(isi)"
   ]
  },
  {
   "cell_type": "code",
   "execution_count": null,
   "id": "4022012e",
   "metadata": {},
   "outputs": [],
   "source": [
    "for isi in range(5,10):\n",
    "    print(isi)"
   ]
  },
  {
   "cell_type": "code",
   "execution_count": null,
   "id": "9b0d5b94",
   "metadata": {},
   "outputs": [],
   "source": [
    "for isi in range (0,10,2):\n",
    "    print(isi)"
   ]
  },
  {
   "cell_type": "markdown",
   "id": "972750b3",
   "metadata": {},
   "source": [
    "### 5.15 Soal 1"
   ]
  },
  {
   "cell_type": "markdown",
   "id": "596015f5",
   "metadata": {},
   "source": [
    "##### 5.15 Jawaban 1"
   ]
  },
  {
   "cell_type": "code",
   "execution_count": 23,
   "id": "7a897b95",
   "metadata": {},
   "outputs": [
    {
     "name": "stdout",
     "output_type": "stream",
     "text": [
      "5\n"
     ]
    }
   ],
   "source": [
    "data = [1,2,3,4,5,4,3,2,1]\n",
    "terbesar = data[0]\n",
    "for i in range(len(data)):\n",
    "    if data[i] > terbesar:\n",
    "        terbesar = data[i]\n",
    "print(terbesar)"
   ]
  },
  {
   "cell_type": "markdown",
   "id": "9dbf4e9f",
   "metadata": {},
   "source": [
    "##### 5.15 Jawaban 2"
   ]
  },
  {
   "cell_type": "code",
   "execution_count": 24,
   "id": "2b9ca3ef",
   "metadata": {},
   "outputs": [
    {
     "name": "stdout",
     "output_type": "stream",
     "text": [
      "5\n"
     ]
    }
   ],
   "source": [
    "data = [1,2,3,4,5,4,3,2,1]\n",
    "terbesar = data[0]\n",
    "for angka in data:\n",
    "    if angka > terbesar:\n",
    "        terbesar = angka \n",
    "print(terbesar)"
   ]
  },
  {
   "cell_type": "markdown",
   "id": "75b5088a",
   "metadata": {},
   "source": [
    "### 5.15 Soal 2"
   ]
  },
  {
   "cell_type": "code",
   "execution_count": 26,
   "id": "7320a99d",
   "metadata": {},
   "outputs": [
    {
     "name": "stdout",
     "output_type": "stream",
     "text": [
      "[1, 2, 3, 4, 5, 6, 7, 8]\n"
     ]
    }
   ],
   "source": [
    "angka =[1,2,3,4,5,6,3,4,5,7,8,7]\n",
    "angka_unik = []\n",
    "for anggota in angka:\n",
    "    if anggota not in angka_unik:\n",
    "        angka_unik.append(anggota)\n",
    "print(angka_unik)"
   ]
  },
  {
   "cell_type": "markdown",
   "id": "29d8004b",
   "metadata": {},
   "source": [
    "## 5.16 List 2 Dimensi"
   ]
  },
  {
   "cell_type": "markdown",
   "id": "4d16e40c",
   "metadata": {},
   "source": [
    "##### Contoh penerapan list 2 dimensi"
   ]
  },
  {
   "cell_type": "code",
   "execution_count": 32,
   "id": "0f66c169",
   "metadata": {},
   "outputs": [
    {
     "name": "stdout",
     "output_type": "stream",
     "text": [
      "[[1, 1, 2, 9], [2, 3, 1, 7], [3, 6, 5, 1], [0, 3, 2, 9]]\n"
     ]
    }
   ],
   "source": [
    "matriks = [\n",
    "    [1,1,2,9],\n",
    "    [2,3,1,7],\n",
    "    [3,6,5,1],\n",
    "    [0,3,2,9]\n",
    "]\n",
    "print(matriks)"
   ]
  },
  {
   "cell_type": "code",
   "execution_count": 28,
   "id": "0b508fb6",
   "metadata": {},
   "outputs": [
    {
     "data": {
      "text/plain": [
       "[2, 3, 1, 7]"
      ]
     },
     "execution_count": 28,
     "metadata": {},
     "output_type": "execute_result"
    }
   ],
   "source": [
    "matriks[1]"
   ]
  },
  {
   "cell_type": "code",
   "execution_count": 29,
   "id": "809ae418",
   "metadata": {},
   "outputs": [
    {
     "data": {
      "text/plain": [
       "1"
      ]
     },
     "execution_count": 29,
     "metadata": {},
     "output_type": "execute_result"
    }
   ],
   "source": [
    "matriks[1][2]"
   ]
  },
  {
   "cell_type": "code",
   "execution_count": 30,
   "id": "80dbd5b8",
   "metadata": {},
   "outputs": [
    {
     "name": "stdout",
     "output_type": "stream",
     "text": [
      "17\n"
     ]
    }
   ],
   "source": [
    "matriks[1][2]=17\n",
    "print(matriks[1][2])"
   ]
  },
  {
   "cell_type": "code",
   "execution_count": 31,
   "id": "6d312436",
   "metadata": {},
   "outputs": [
    {
     "data": {
      "text/plain": [
       "[[1, 1, 2, 9], [2, 3, 17, 7], [3, 6, 5, 1], [0, 3, 2, 9]]"
      ]
     },
     "execution_count": 31,
     "metadata": {},
     "output_type": "execute_result"
    }
   ],
   "source": [
    "matriks"
   ]
  },
  {
   "cell_type": "markdown",
   "id": "f0e92087",
   "metadata": {},
   "source": [
    "##### Cara memanggil anggota dari list 2 dimensi"
   ]
  },
  {
   "cell_type": "code",
   "execution_count": 33,
   "id": "7ea1a135",
   "metadata": {},
   "outputs": [
    {
     "name": "stdout",
     "output_type": "stream",
     "text": [
      "[1, 1, 2, 9]\n",
      "1\n",
      "1\n",
      "2\n",
      "9\n",
      "[2, 3, 1, 7]\n",
      "2\n",
      "3\n",
      "1\n",
      "7\n",
      "[3, 6, 5, 1]\n",
      "3\n",
      "6\n",
      "5\n",
      "1\n",
      "[0, 3, 2, 9]\n",
      "0\n",
      "3\n",
      "2\n",
      "9\n"
     ]
    }
   ],
   "source": [
    "for baris in matriks:\n",
    "    print(baris)\n",
    "    for kolom in baris:\n",
    "        print(kolom)"
   ]
  },
  {
   "cell_type": "markdown",
   "id": "1c727c90",
   "metadata": {},
   "source": [
    "## 5.17 Tuples"
   ]
  },
  {
   "cell_type": "code",
   "execution_count": 35,
   "id": "c8d5ff28",
   "metadata": {},
   "outputs": [],
   "source": [
    "angka = (5,6,7,8,9,4)"
   ]
  },
  {
   "cell_type": "code",
   "execution_count": 36,
   "id": "179a878a",
   "metadata": {},
   "outputs": [
    {
     "name": "stdout",
     "output_type": "stream",
     "text": [
      "5\n"
     ]
    }
   ],
   "source": [
    "print(angka[0])"
   ]
  },
  {
   "cell_type": "code",
   "execution_count": 37,
   "id": "12c2698d",
   "metadata": {},
   "outputs": [
    {
     "name": "stdout",
     "output_type": "stream",
     "text": [
      "(5, 6, 7, 8)\n"
     ]
    }
   ],
   "source": [
    "print(angka[0:4])"
   ]
  },
  {
   "cell_type": "code",
   "execution_count": 38,
   "id": "4b2270c2",
   "metadata": {},
   "outputs": [
    {
     "name": "stdout",
     "output_type": "stream",
     "text": [
      "5\n",
      "6\n",
      "7\n",
      "8\n"
     ]
    }
   ],
   "source": [
    "for isi in angka[0:4]:\n",
    "    print(isi)"
   ]
  },
  {
   "cell_type": "code",
   "execution_count": null,
   "id": "e7aaaff7",
   "metadata": {},
   "outputs": [],
   "source": [
    "angka[0] = 10"
   ]
  },
  {
   "cell_type": "code",
   "execution_count": null,
   "id": "7f6bd3b2",
   "metadata": {},
   "outputs": [],
   "source": [
    "angka.append(10)"
   ]
  },
  {
   "cell_type": "code",
   "execution_count": null,
   "id": "520ca612",
   "metadata": {},
   "outputs": [],
   "source": [
    "angka.remove(7)"
   ]
  },
  {
   "cell_type": "code",
   "execution_count": 41,
   "id": "9c550516",
   "metadata": {},
   "outputs": [
    {
     "data": {
      "text/plain": [
       "0"
      ]
     },
     "execution_count": 41,
     "metadata": {},
     "output_type": "execute_result"
    }
   ],
   "source": [
    "angka.count(1)"
   ]
  },
  {
   "cell_type": "code",
   "execution_count": 42,
   "id": "3ac76e69",
   "metadata": {},
   "outputs": [
    {
     "data": {
      "text/plain": [
       "1"
      ]
     },
     "execution_count": 42,
     "metadata": {},
     "output_type": "execute_result"
    }
   ],
   "source": [
    "angka.count(7)"
   ]
  },
  {
   "cell_type": "code",
   "execution_count": 43,
   "id": "1579f8fc",
   "metadata": {},
   "outputs": [
    {
     "data": {
      "text/plain": [
       "3"
      ]
     },
     "execution_count": 43,
     "metadata": {},
     "output_type": "execute_result"
    }
   ],
   "source": [
    "angka.index(8)"
   ]
  },
  {
   "cell_type": "code",
   "execution_count": 44,
   "id": "6b74328f",
   "metadata": {},
   "outputs": [
    {
     "data": {
      "text/plain": [
       "2"
      ]
     },
     "execution_count": 44,
     "metadata": {},
     "output_type": "execute_result"
    }
   ],
   "source": [
    "angka.index(7)"
   ]
  },
  {
   "cell_type": "markdown",
   "id": "47099f8c",
   "metadata": {},
   "source": [
    "## 5.18 Dictionaries"
   ]
  },
  {
   "cell_type": "markdown",
   "id": "20ddeaa0",
   "metadata": {},
   "source": [
    "##### Contoh dictionaries"
   ]
  },
  {
   "cell_type": "code",
   "execution_count": 53,
   "id": "a21b1328",
   "metadata": {},
   "outputs": [],
   "source": [
    "data_saya = {\n",
    "    \"nama\" : \"Lidya Gresya\",\n",
    "    \"umur\" : 19,\n",
    "    \"apakah_jomblo\" : False\n",
    "}"
   ]
  },
  {
   "cell_type": "code",
   "execution_count": 47,
   "id": "a05c19b8",
   "metadata": {},
   "outputs": [
    {
     "name": "stdout",
     "output_type": "stream",
     "text": [
      "Lidya Gresya\n"
     ]
    }
   ],
   "source": [
    "print(data_saya['nama'])"
   ]
  },
  {
   "cell_type": "code",
   "execution_count": null,
   "id": "89927fd4",
   "metadata": {},
   "outputs": [],
   "source": [
    "print(data_saya['Nama'])"
   ]
  },
  {
   "cell_type": "code",
   "execution_count": null,
   "id": "72310a45",
   "metadata": {},
   "outputs": [],
   "source": [
    "print(data_saya.get('nama'))"
   ]
  },
  {
   "cell_type": "code",
   "execution_count": null,
   "id": "d0cac804",
   "metadata": {},
   "outputs": [],
   "source": [
    "print(data_saya.get('Nama'))"
   ]
  },
  {
   "cell_type": "code",
   "execution_count": null,
   "id": "96ab9278",
   "metadata": {},
   "outputs": [],
   "source": [
    "print(data_saya.get('tanggal_lahir'))"
   ]
  },
  {
   "cell_type": "code",
   "execution_count": 54,
   "id": "7b3bc4ba",
   "metadata": {},
   "outputs": [
    {
     "name": "stdout",
     "output_type": "stream",
     "text": [
      "24-7-2003\n"
     ]
    }
   ],
   "source": [
    "print(data_saya.get('tanggal_lahir','24-7-2003'))"
   ]
  },
  {
   "cell_type": "code",
   "execution_count": null,
   "id": "aa759fc2",
   "metadata": {},
   "outputs": [],
   "source": [
    "print(data_saya)"
   ]
  },
  {
   "cell_type": "code",
   "execution_count": null,
   "id": "913a8be1",
   "metadata": {},
   "outputs": [],
   "source": [
    "print(data_saya[\"tanggal_lahir\"])"
   ]
  },
  {
   "cell_type": "code",
   "execution_count": null,
   "id": "c93b9412",
   "metadata": {},
   "outputs": [],
   "source": [
    "data_saya['HP'] = '082304724786'"
   ]
  },
  {
   "cell_type": "code",
   "execution_count": 56,
   "id": "faff63e0",
   "metadata": {},
   "outputs": [
    {
     "ename": "KeyError",
     "evalue": "'HP'",
     "output_type": "error",
     "traceback": [
      "\u001b[1;31m---------------------------------------------------------------------------\u001b[0m",
      "\u001b[1;31mKeyError\u001b[0m                                  Traceback (most recent call last)",
      "\u001b[1;32m~\\AppData\\Local\\Temp/ipykernel_10752/218559927.py\u001b[0m in \u001b[0;36m<module>\u001b[1;34m\u001b[0m\n\u001b[1;32m----> 1\u001b[1;33m \u001b[0mprint\u001b[0m\u001b[1;33m(\u001b[0m\u001b[0mdata_saya\u001b[0m\u001b[1;33m[\u001b[0m\u001b[1;34m\"HP\"\u001b[0m\u001b[1;33m]\u001b[0m\u001b[1;33m)\u001b[0m\u001b[1;33m\u001b[0m\u001b[1;33m\u001b[0m\u001b[0m\n\u001b[0m",
      "\u001b[1;31mKeyError\u001b[0m: 'HP'"
     ]
    }
   ],
   "source": [
    "print(data_saya[\"HP\"])"
   ]
  },
  {
   "cell_type": "code",
   "execution_count": null,
   "id": "ca9fc38d",
   "metadata": {},
   "outputs": [],
   "source": [
    "print(data_saya)"
   ]
  },
  {
   "cell_type": "markdown",
   "id": "5a9d6e5e",
   "metadata": {},
   "source": [
    "##### Program membaca nomor HP"
   ]
  },
  {
   "cell_type": "code",
   "execution_count": 13,
   "id": "9db8454b",
   "metadata": {},
   "outputs": [],
   "source": [
    "angka = {\n",
    "    \"0\" : \"nol \",\n",
    "    \"1\" : \"satu \",\n",
    "    \"2\" : \"dua \",\n",
    "    \"3\" : \"tiga \",\n",
    "    \"4\" : \"empat \",\n",
    "    \"5\" : \"lima \",\n",
    "    \"6\" : \"enam \",\n",
    "    \"7\" : \"tujuh \",\n",
    "    \"8\" : \"delapan \",\n",
    "    \"9\" : \"sembilan \"\n",
    "}"
   ]
  },
  {
   "cell_type": "code",
   "execution_count": 14,
   "id": "e43d0d25",
   "metadata": {},
   "outputs": [
    {
     "name": "stdout",
     "output_type": "stream",
     "text": [
      "Masukkan nomor HP anda082304724786\n",
      "nol delapan dua tiga nol empat tujuh dua empat tujuh delapan enam \n"
     ]
    }
   ],
   "source": [
    "nomor_HP = input(\"Masukkan nomor HP anda\")\n",
    "nomor_angka = \"\"\n",
    "for isi in nomor_HP:\n",
    "    nomor_angka += angka.get(isi) + \"\"\n",
    "print(nomor_angka)\n",
    "    "
   ]
  },
  {
   "cell_type": "markdown",
   "id": "ee0925e0",
   "metadata": {},
   "source": [
    "## 5.19 Fungsi dalam Python"
   ]
  },
  {
   "cell_type": "markdown",
   "id": "202868bf",
   "metadata": {},
   "source": [
    "##### Contoh fungsi dalam Python"
   ]
  },
  {
   "cell_type": "code",
   "execution_count": null,
   "id": "31fe921c",
   "metadata": {},
   "outputs": [],
   "source": [
    "def full_nama(first_name,last_name):\n",
    "    print(f\"Nama lengkapnya adalah {nama_depan} {nama belakang}\")"
   ]
  },
  {
   "cell_type": "code",
   "execution_count": null,
   "id": "5ef162e6",
   "metadata": {},
   "outputs": [],
   "source": [
    "first_name = input(\"Nama depan anda adalah \")\n",
    "last_name = input(\"Nama belakang anda adalah \")\n",
    "full_name(nama_depan,nama_belakang)"
   ]
  },
  {
   "cell_type": "markdown",
   "id": "3603badc",
   "metadata": {},
   "source": [
    "### 5.19.1 Tugas Fungsi Pada Python"
   ]
  },
  {
   "cell_type": "code",
   "execution_count": null,
   "id": "f89b59b8",
   "metadata": {},
   "outputs": [],
   "source": [
    "def waktu_sampai(jarak,kecepatan):\n",
    "    waktu = jarak/kecepatan\n",
    "    print(waktu)"
   ]
  },
  {
   "cell_type": "code",
   "execution_count": null,
   "id": "b051d0bf",
   "metadata": {},
   "outputs": [],
   "source": [
    "def waktu_tempuh(jarak,kecepatan):\n",
    "    waktu = jarak/kecepatan\n",
    "    return waktu"
   ]
  },
  {
   "cell_type": "code",
   "execution_count": null,
   "id": "9021dd94",
   "metadata": {},
   "outputs": [],
   "source": [
    "waktu_sampai(80,60)"
   ]
  },
  {
   "cell_type": "code",
   "execution_count": null,
   "id": "0210f4ca",
   "metadata": {},
   "outputs": [],
   "source": [
    "waktu_tempuh(80,60)"
   ]
  },
  {
   "cell_type": "code",
   "execution_count": null,
   "id": "bacf3167",
   "metadata": {},
   "outputs": [],
   "source": [
    "a = waktu_sampai(80,60)\n",
    "print(a)"
   ]
  },
  {
   "cell_type": "code",
   "execution_count": null,
   "id": "41531d47",
   "metadata": {},
   "outputs": [],
   "source": [
    "b = waktu_tempuh(80,60)\n",
    "print(b)"
   ]
  },
  {
   "cell_type": "markdown",
   "id": "548dcf1b",
   "metadata": {},
   "source": [
    "##### Jawaban latihan fungsi dalam Python"
   ]
  },
  {
   "cell_type": "code",
   "execution_count": null,
   "id": "6dc558a8",
   "metadata": {},
   "outputs": [],
   "source": [
    "import numpy as np"
   ]
  },
  {
   "cell_type": "code",
   "execution_count": null,
   "id": "cd2f883b",
   "metadata": {},
   "outputs": [],
   "source": [
    "def luas_segitiga(alas,tinggi):\n",
    "    luas = (1/2)*alas*tinggi\n",
    "    return luas\n",
    "def luas_lingkaran(jari_jari):\n",
    "    luas = np.pi*(jari_jari**2)\n",
    "    return luas\n",
    "def luas_segitiga(sisi):\n",
    "    luas = sisi**2\n",
    "    return luas\n",
    "def luas_segitiga(panjang,lebar):\n",
    "    luas = panjang*lebar\n",
    "    return luas\n",
    "jenis_bidang = input(\"Tuis jenis bidangnya\")\n",
    "if jenis_bidang.upper() == 'SEGITIGA':\n",
    "    alas = float(input('Berapakah panjang alasnya?'))\n",
    "    tinggi = float(input('Berapakah tingginya?'))\n",
    "    luas = luas_segitiga(alas,tinggi)\n",
    "    print(f\"Luas {jenis_bidang} adalah {luas}\")\n",
    "elif jenis_bidang.upper() == 'LINGKARAN':\n",
    "    jari_jari = float(input('Berapakah panjang jari-jarinya?'))\n",
    "    luas = luas_lingkaran(jari_jari\n",
    "    print(f\"Luas {jenis_bidang} adalah {luas}\")\n",
    "elif (jenis_bidang.upper() == 'PERSEGI') or (jenis_bidang.upper() == 'BUJUR SANGKAR'):\n",
    "    sisi = float(input('Berapakah panjang sisinya?'))\n",
    "    luas = luas_persegi(sisi)\n",
    "    print(f\"Luas {jenis_bidang} adalah {luas}\")\n",
    "elif jenis_bidang.upper() == 'PERSEGI PANJANG':\n",
    "     panjang= float(input('Berapakah panjangnya?'))\n",
    "     lebar= float(input('Berapakah lebarnya?'))\n",
    "    luas = luas_persegi_panjang(panjang,lebar)\n",
    "    print(f\"Luas {jenis_bidang} adalah {luas}\")\n",
    "else:\n",
    "    print(f\"Maaf bidang {jenis_bidang} yang anda masukkan tidak ada.\")\n",
    "    print(\"Pilihan hanya SEGITIGA, LINGKARAN, PERSEGI dan PERSEGI PANJANG.\")\n",
    "    print('Terimakasih')"
   ]
  }
 ],
 "metadata": {
  "kernelspec": {
   "display_name": "Python 3 (ipykernel)",
   "language": "python",
   "name": "python3"
  },
  "language_info": {
   "codemirror_mode": {
    "name": "ipython",
    "version": 3
   },
   "file_extension": ".py",
   "mimetype": "text/x-python",
   "name": "python",
   "nbconvert_exporter": "python",
   "pygments_lexer": "ipython3",
   "version": "3.9.7"
  }
 },
 "nbformat": 4,
 "nbformat_minor": 5
}
